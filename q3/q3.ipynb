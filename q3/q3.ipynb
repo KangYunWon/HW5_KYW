{
 "cells": [
  {
   "cell_type": "code",
   "execution_count": 40,
   "id": "5e50e0db",
   "metadata": {},
   "outputs": [
    {
     "name": "stdout",
     "output_type": "stream",
     "text": [
      "*** Subway Report for Seoul on March 2023 ***\n",
      "1st Busiest Line: Line 2 (85620512)\n",
      "2nd Busiest Line: Line 5 (39671990)\n",
      "1st Least used Line: Line 8 (11863928)\n",
      "2nd Least used Line: Line 1 (14705833)\n"
     ]
    }
   ],
   "source": [
    "def main():\n",
    "    import csv\n",
    "    f = open('q3.csv', 'r', encoding=\"ansi\")\n",
    "    data = csv.reader(f)\n",
    "    header = next(data)\n",
    "    line = [0] * 9\n",
    "    label = {}\n",
    "    for row in data:\n",
    "        for i in range(4,6):\n",
    "            if row[i] != '':\n",
    "                row[i] = int(row[i])\n",
    "        if row[4] == '' or row[5] == '':\n",
    "            continue\n",
    "        else:\n",
    "            if row[1] == '1호선':\n",
    "                line[0] = line[0] + row[4] + row[5]\n",
    "            if row[1] == '2호선':\n",
    "                line[1] = line[1] + row[4] + row[5]\n",
    "            if row[1] == '3호선':\n",
    "                line[2] = line[2] + row[4] + row[5]\n",
    "            if row[1] == '4호선':\n",
    "                line[3] = line[3] + row[4] + row[5]\n",
    "            if row[1] == '5호선':\n",
    "                line[4] = line[4] + row[4] + row[5]\n",
    "            if row[1] == '6호선':\n",
    "                line[5] = line[5] + row[4] + row[5]\n",
    "            if row[1] == '7호선':\n",
    "                line[6] = line[6] + row[4] + row[5]\n",
    "            if row[1] == '8호선':\n",
    "                line[7] = line[7] + row[4] + row[5]\n",
    "            if row[1] == '9호선':\n",
    "                line[8] = line[8] + row[4] + row[5]\n",
    "        for i in range(9):\n",
    "            label[\"Line \" + str(i+1)] = line[i]\n",
    "    \n",
    "    sorted_label = dict(sorted(label.items(), key=lambda x: x[1]))\n",
    "    keys = list(sorted_label.keys())\n",
    "                \n",
    "    print(\"*** Subway Report for Seoul on March 2023 ***\")\n",
    "    print(\"1st Busiest Line:\", keys[-1], \"(\" + str(sorted_label.get(keys[-1])) + \")\") \n",
    "    print(\"2nd Busiest Line:\", keys[-2], \"(\" + str(sorted_label.get(keys[-2])) + \")\")\n",
    "    print(\"1st Least used Line:\", keys[0], \"(\" + str(sorted_label.get(keys[0])) + \")\")\n",
    "    print(\"2nd Least used Line:\", keys[1], \"(\" + str(sorted_label.get(keys[1])) + \")\")\n",
    "    \n",
    "    f.close()\n",
    "    \n",
    "if __name__ == \"__main__\":\n",
    "    main()"
   ]
  }
 ],
 "metadata": {
  "kernelspec": {
   "display_name": "Python 3 (ipykernel)",
   "language": "python",
   "name": "python3"
  },
  "language_info": {
   "codemirror_mode": {
    "name": "ipython",
    "version": 3
   },
   "file_extension": ".py",
   "mimetype": "text/x-python",
   "name": "python",
   "nbconvert_exporter": "python",
   "pygments_lexer": "ipython3",
   "version": "3.9.13"
  }
 },
 "nbformat": 4,
 "nbformat_minor": 5
}
