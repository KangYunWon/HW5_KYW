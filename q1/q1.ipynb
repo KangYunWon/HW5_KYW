{
 "cells": [
  {
   "cell_type": "code",
   "execution_count": 21,
   "id": "0c4a49c8",
   "metadata": {},
   "outputs": [
    {
     "name": "stdout",
     "output_type": "stream",
     "text": [
      "*** Annual Temperature Report for Seoul in 2022 ***\n",
      "Average Temperature: 13.26 Celsius\n",
      "Average Minimum Temperature: 9.21 Celsius\n",
      "Average Maximum Temperature: 18.05 Celsius\n"
     ]
    }
   ],
   "source": [
    "def main():\n",
    "    import csv\n",
    "    f = open('q1.csv', 'r', encoding=\"ansi\")\n",
    "    data = csv.reader(f)\n",
    "    header = next(data)\n",
    "    count=0\n",
    "    total1=0\n",
    "    total2=0\n",
    "    total3=0\n",
    "    avg_t = 0\n",
    "    max_t = 0\n",
    "    min_t = 0\n",
    "    for row in data:\n",
    "        for i in range(2,5):\n",
    "            if row[i] != '':\n",
    "                row[i] = float(row[i])\n",
    "        if row[2] == '' or row[3] == '' or row[4] == '':\n",
    "            continue\n",
    "        else:\n",
    "            total1 += row[2]\n",
    "            total2 += row[3]\n",
    "            total3 += row[4]\n",
    "            count += 1\n",
    "\n",
    "    avg_t = total1/count\n",
    "    min_t = total2/count\n",
    "    max_t = total3/count\n",
    "        \n",
    "    print(\"*** Annual Temperature Report for Seoul in 2022 ***\")\n",
    "    print(\"Average Temperature:\", round(avg_t,2), \"Celsius\")\n",
    "    print(\"Average Minimum Temperature:\", round(min_t,2), \"Celsius\")\n",
    "    print(\"Average Maximum Temperature:\", round(max_t,2), \"Celsius\")\n",
    "    \n",
    "    f.close()\n",
    "    \n",
    "if __name__ == \"__main__\":\n",
    "    main()"
   ]
  }
 ],
 "metadata": {
  "kernelspec": {
   "display_name": "Python 3 (ipykernel)",
   "language": "python",
   "name": "python3"
  },
  "language_info": {
   "codemirror_mode": {
    "name": "ipython",
    "version": 3
   },
   "file_extension": ".py",
   "mimetype": "text/x-python",
   "name": "python",
   "nbconvert_exporter": "python",
   "pygments_lexer": "ipython3",
   "version": "3.9.13"
  }
 },
 "nbformat": 4,
 "nbformat_minor": 5
}
