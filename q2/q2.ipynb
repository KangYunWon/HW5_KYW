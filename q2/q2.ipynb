{
 "cells": [
  {
   "cell_type": "code",
   "execution_count": 19,
   "id": "b08138e2",
   "metadata": {},
   "outputs": [
    {
     "name": "stdout",
     "output_type": "stream",
     "text": [
      "*** Annual Temperature Report for Seoul in 2022 ***\n",
      "Day with Largest Temperature Variation: 2022-11-29\n",
      "Maximum Temperature Difference: 16.6 Celsius\n",
      "Day with Smallest Temperature Variation: 2022-06-29\n",
      "Minimum Temperature Difference: 1.7 Celsius\n"
     ]
    }
   ],
   "source": [
    "def main():\n",
    "    import csv\n",
    "    f = open('q2.csv', 'r', encoding=\"ansi\")\n",
    "    data = csv.reader(f)\n",
    "    header = next(data)\n",
    "    max_d = ''\n",
    "    min_d = ''\n",
    "    min_var = 999\n",
    "    max_var = -999\n",
    "    for row in data:\n",
    "        for i in range(3,5):\n",
    "            if row[i] != '':\n",
    "                row[i] = float(row[i])\n",
    "        if row[3] == '' or row[4] == '':\n",
    "            continue\n",
    "        else:\n",
    "            if max_var < row[4]-row[3]:\n",
    "                max_var = row[4]-row[3]\n",
    "                max_d = row[0]\n",
    "            if min_var > row[4] - row[3]:\n",
    "                min_var = row[4] - row[3]\n",
    "                min_d = row[0]\n",
    "        \n",
    "    print(\"*** Annual Temperature Report for Seoul in 2022 ***\")\n",
    "    print(\"Day with Largest Temperature Variation:\", max_d)\n",
    "    print(\"Maximum Temperature Difference:\", round(max_var,2), \"Celsius\")\n",
    "    print(\"Day with Smallest Temperature Variation:\", min_d)\n",
    "    print(\"Minimum Temperature Difference:\", round(min_var,2), \"Celsius\")\n",
    "    \n",
    "    f.close()\n",
    "    \n",
    "if __name__ == \"__main__\":\n",
    "    main()"
   ]
  }
 ],
 "metadata": {
  "kernelspec": {
   "display_name": "Python 3 (ipykernel)",
   "language": "python",
   "name": "python3"
  },
  "language_info": {
   "codemirror_mode": {
    "name": "ipython",
    "version": 3
   },
   "file_extension": ".py",
   "mimetype": "text/x-python",
   "name": "python",
   "nbconvert_exporter": "python",
   "pygments_lexer": "ipython3",
   "version": "3.9.13"
  }
 },
 "nbformat": 4,
 "nbformat_minor": 5
}
