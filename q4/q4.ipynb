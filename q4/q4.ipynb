{
 "cells": [
  {
   "cell_type": "code",
   "execution_count": 16,
   "id": "7e4ebb1e",
   "metadata": {},
   "outputs": [
    {
     "name": "stdout",
     "output_type": "stream",
     "text": [
      "*** Subway Report for Seoul on March 2023 ***\n",
      "Line 1:\n",
      "Busiest Station: 서울역 (3084227)\n",
      "Least used Station: 동묘앞 (658566)\n",
      "Line 2:\n",
      "Busiest Station: 강남 (4690366)\n",
      "Least used Station: 도림천 (80084)\n",
      "Line 3:\n",
      "Busiest Station: 고속터미널 (2886887)\n",
      "Least used Station: 충무로 (48)\n",
      "Line 4:\n",
      "Busiest Station: 혜화 (2286709)\n",
      "Least used Station: 남태령 (79916)\n"
     ]
    }
   ],
   "source": [
    "def main():\n",
    "    import csv\n",
    "    f = open('q4.csv', 'r', encoding=\"ansi\")\n",
    "    data = csv.reader(f)\n",
    "    header = next(data)\n",
    "    mx_station = [''] * 4\n",
    "    mn_station = [''] * 4\n",
    "    mx = [0] * 4\n",
    "    mn = [9999999999] * 4\n",
    "    \n",
    "    for row in data:\n",
    "        for i in range(4,6):\n",
    "            if row[i] != '':\n",
    "                row[i] = int(row[i])\n",
    "        if row[4] == '' or row[5] == '':\n",
    "            continue\n",
    "        else:\n",
    "            if row[1] == '1호선':\n",
    "                if mx[0] < row[4] + row[5]:\n",
    "                    mx[0] = row[4] + row[5]\n",
    "                    mx_station[0] = row[3]\n",
    "                if mn[0] > row[4] + row[5]:\n",
    "                    mn[0] = row[4] + row[5]\n",
    "                    mn_station[0] = row[3]\n",
    "            if row[1] == '2호선':\n",
    "                if mx[1] < row[4] + row[5]:\n",
    "                    mx[1] = row[4] + row[5]\n",
    "                    mx_station[1] = row[3]\n",
    "                if mn[1] > row[4] + row[5]:\n",
    "                    mn[1] = row[4] + row[5]\n",
    "                    mn_station[1] = row[3]\n",
    "            if row[1] == '3호선':\n",
    "                if mx[2] < row[4] + row[5]:\n",
    "                    mx[2] = row[4] + row[5]\n",
    "                    mx_station[2] = row[3]\n",
    "                if mn[2] > row[4] + row[5]:\n",
    "                    mn[2] = row[4] + row[5]\n",
    "                    mn_station[2] = row[3]\n",
    "            if row[1] == '4호선':\n",
    "                if mx[3] < row[4] + row[5]:\n",
    "                    mx[3] = row[4] + row[5]\n",
    "                    mx_station[3] = row[3]\n",
    "                if mn[3] > row[4] + row[5]:\n",
    "                    mn[3] = row[4] + row[5]\n",
    "                    mn_station[3] = row[3]\n",
    "                    \n",
    "    print(\"*** Subway Report for Seoul on March 2023 ***\")\n",
    "    for i in range(4):\n",
    "        print(\"Line \" + str(i+1) + \":\")\n",
    "        print(\"Busiest Station:\", mx_station[i], \"(\" + str(mx[i]) + \")\")\n",
    "        print(\"Least used Station:\", mn_station[i], \"(\" + str(mn[i]) + \")\")\n",
    "        \n",
    "    f.close()\n",
    "    \n",
    "if __name__ == \"__main__\":\n",
    "    main()"
   ]
  }
 ],
 "metadata": {
  "kernelspec": {
   "display_name": "Python 3 (ipykernel)",
   "language": "python",
   "name": "python3"
  },
  "language_info": {
   "codemirror_mode": {
    "name": "ipython",
    "version": 3
   },
   "file_extension": ".py",
   "mimetype": "text/x-python",
   "name": "python",
   "nbconvert_exporter": "python",
   "pygments_lexer": "ipython3",
   "version": "3.9.13"
  }
 },
 "nbformat": 4,
 "nbformat_minor": 5
}
